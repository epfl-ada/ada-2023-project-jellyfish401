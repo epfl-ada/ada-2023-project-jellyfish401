{
 "cells": [
  {
   "cell_type": "markdown",
   "id": "1a47998f-7abb-4829-becf-4c60d27e2f62",
   "metadata": {},
   "source": [
    "# Milestone 2 \n",
    "\n",
    "#### Initial analysis and data handling pipeline for the project. \n",
    "\n",
    "- Load data\n",
    "- Data wrangling \n",
    "    - missing data\n",
    "    - incorrect data / corrupted data\n",
    "    - parse/transform data into appropriate data model and format (for the analysis we want to do)\n",
    "- Data analysis\n",
    "    - descriptive statistics\n",
    "    - initial analysis\n",
    "    \n",
    "Goal is to prove that project idea is feasible given the data :)"
   ]
  },
  {
   "cell_type": "code",
   "execution_count": null,
   "id": "dd4e1f3d-b0a3-4c30-bc0f-dda406ab0f3b",
   "metadata": {},
   "outputs": [],
   "source": []
  }
 ],
 "metadata": {
  "kernelspec": {
   "display_name": "Python3",
   "language": "python",
   "name": "python3"
  },
  "language_info": {
   "codemirror_mode": {
    "name": "ipython",
    "version": 3
   },
   "file_extension": ".py",
   "mimetype": "text/x-python",
   "name": "python",
   "nbconvert_exporter": "python",
   "pygments_lexer": "ipython3",
   "version": "3.11.5"
  }
 },
 "nbformat": 4,
 "nbformat_minor": 5
}
