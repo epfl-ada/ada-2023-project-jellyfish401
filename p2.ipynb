{
 "cells": [
  {
   "cell_type": "markdown",
   "id": "1a47998f-7abb-4829-becf-4c60d27e2f62",
   "metadata": {},
   "source": [
    "# Milestone 2 \n",
    "Initial analysis and data handling pipeline for the project. \n",
    "The notebook is structured in the following way:\n",
    "- Loading data\n",
    "- Data wrangling\n",
    "- Data analysis for the research questions\n",
    "    - Regarding the articles structure\n",
    "        * Q1: How different are the length of these articles and their number of hyperlinks?\n",
    "        * Q2: How positive or negative is the content of an article and the articles linked to it?\n",
    "    - Regarding the pathways\n",
    "        * Q3: Is there a correlation between the ratio of finished pathways and the country, continent or country classification by the UN?\n",
    "        * Q4: Is there a correlation between the length of the pathway taken respectively the time needed and the country, continent or country classification by the UN?\n",
    "    - Regarding confounding variables\n",
    "        * Q5: By investigating article length, article sentiment or number of hyperlinks while controlling for e.g. population size, economic power or official languages, is there a representation bias based on countries in Wikipedia? \n",
    "        * Q6: While controlling for as much of the bias in the dataset as we can, do we see bias of the players in the pathways they have taken? \n",
    "\n",
    "\n",
    "## Loading data\n"
   ]
  },
  {
   "cell_type": "code",
   "execution_count": 27,
   "id": "bc40b936-f833-4749-9434-c0c8414ae159",
   "metadata": {
    "tags": []
   },
   "outputs": [],
   "source": [
    "# Loading all the necessary packages\n",
    "import numpy as np\n",
    "import pandas as pd\n",
    "import os\n",
    "import matplotlib.pyplot as plt\n",
    "%matplotlib inline\n",
    "from matplotlib.offsetbox import AnchoredText\n",
    "from urllib.parse import unquote\n",
    "import seaborn as sns\n",
    "import networkx as nx\n",
    "#import plotly.express as px\n",
    "#import plotly.graph_objects as go\n",
    "import statsmodels.formula.api as smf\n",
    "import scipy.stats as stats\n",
    "from urllib.parse import unquote"
   ]
  },
  {
   "cell_type": "code",
   "execution_count": 2,
   "id": "e525599b-9e37-498f-ad9e-8bdc9c47ca71",
   "metadata": {
    "tags": []
   },
   "outputs": [],
   "source": [
    "articles =  pd.read_csv(\"data/wikispeedia_paths-and-graph/articles.tsv\", sep='\\t', names=[\"article\"], skiprows=12)\n",
    "links = pd.read_csv(\"data/wikispeedia_paths-and-graph/links.tsv\", sep='\\t', names=[\"link_source\", \"link_target\"], skiprows = 12)\n",
    "paths_finished = pd.read_csv(\"data/wikispeedia_paths-and-graph/paths_finished.tsv\", sep='\\t', names=[\"hashedIpAddress\", \"timestamp\", \n",
    "                                                              \"durationInSec\", \"path\", \"rating\"], skiprows = 15)\n",
    "paths_unfinished = pd.read_csv(\"data/wikispeedia_paths-and-graph/paths_unfinished.tsv\", sep='\\t', names=[\"hashedIpAddress\", \"timestamp\", \n",
    "                                                                  \"durationInSec\", \"path\", \"target\", \"type\"], skiprows = 17)\n",
    "shortest_distance_text = np.loadtxt(\"data/wikispeedia_paths-and-graph/shortest-path-distance-matrix.txt\", dtype=str, comments=\"#\", unpack=False)\n",
    "categories= pd.read_csv(\"data/wikispeedia_paths-and-graph/categories.tsv\", sep='\\t', names=[\"article\", \"category\"], skiprows = 13)\n",
    "\n",
    "# seperate each row and create a matrix with all the shortest distance\n",
    "table_distance = np.array([[int(c) if c != '_' else -1 for c in row] for row in shortest_distance_text])\n",
    "\n",
    "UN_countries = pd.read_csv(\"data/UNSD — Methodology.csv\", delimiter = ';')"
   ]
  },
  {
   "cell_type": "code",
   "execution_count": 3,
   "id": "c0a6c8ce-14b8-4f4f-9aec-d05f26d42a75",
   "metadata": {
    "tags": []
   },
   "outputs": [],
   "source": [
    "def seperate_path(path):\n",
    "    # Split the path into individual articles\n",
    "    articles = path.split(\";\")\n",
    "    \n",
    "    # Extract source and target\n",
    "    source, target = articles[0], articles[-1]\n",
    "    \n",
    "    # Calculate the length, considering back-clicks\n",
    "    length = len(articles) + articles.count('') - 1\n",
    "    \n",
    "    return source, target, length\n",
    "\n",
    "# Find the index of an article in the helper DataFrame\n",
    "def find_article_index(article, helper_df):\n",
    "    try:\n",
    "        return helper_df.loc[article]\n",
    "    except KeyError:\n",
    "        return None\n",
    "\n",
    "# Calculate the shortest distance between source and target indices\n",
    "def calculate_shortest_distance(source_idx, target_idx):\n",
    "    try:\n",
    "        return table_distance[source_idx, target_idx][0]\n",
    "    except KeyError:\n",
    "        return None\n",
    "\n",
    "# Finding the shortest path length between a source and a target\n",
    "def find_path_distance(source, target, helper_df):\n",
    "    source_idx = find_article_index(source, helper_df)\n",
    "    target_idx = find_article_index(target, helper_df)\n",
    "\n",
    "    if source_idx is not None and target_idx is not None:\n",
    "        return calculate_shortest_distance(source_idx, target_idx)\n",
    "    else:\n",
    "        # Handle the case where source or target is not present in the index\n",
    "        return None  # You can customize this behavior based on your specific needs\n",
    "\n",
    "def extract_subject_category(category):\n",
    "    # Split the category string by '.'\n",
    "    category_parts = category.split('.')\n",
    "    \n",
    "    # Find the index of 'subject' in the split parts\n",
    "    subject_index = category_parts.index('subject')\n",
    "    \n",
    "    # Check if there is at least one word after 'subject'\n",
    "    if subject_index < len(category_parts) - 1:\n",
    "        return category_parts[subject_index + 1]\n",
    "    \n",
    "\n",
    "def get_region(country):\n",
    "    \"\"\"\n",
    "    Returns the region for country, using replacement_countries for those with different names in the UN dataset\n",
    "    \"\"\"\n",
    "    country = country.replace('_',' ')\n",
    "    if country in UN_countries['Country or Area'].values:\n",
    "        region = UN_countries[UN_countries['Country or Area'] == country]['Region Name'].values\n",
    "        # print(type(region))\n",
    "        return region[0]\n",
    "    else:\n",
    "        new_country = replacement_countries[country]\n",
    "        region = UN_countries[UN_countries['Country or Area'] == new_country]['Region Name'].values\n",
    "        if len(region) > 0:\n",
    "            return region[0]\n",
    "        else:\n",
    "            return \"\""
   ]
  },
  {
   "cell_type": "markdown",
   "id": "106a742f-b329-4f58-b151-6bf3cbbcd51d",
   "metadata": {},
   "source": [
    "## Data wrangling \n",
    "We now parse and transform the data into appropriate data model and format that will be used for the analysis we want to do. For instance article titles are transformed to a readable format, paths are expanded so that we may build a dataframe that gives an overwiew of the paths.\n"
   ]
  },
  {
   "cell_type": "code",
   "execution_count": 4,
   "id": "29b2f6cf-f174-47bd-970a-673ae0cd7507",
   "metadata": {
    "tags": []
   },
   "outputs": [],
   "source": [
    "# Translating all article titles to user readable format\n",
    "articles['article'] = articles['article'].apply(unquote)\n",
    "links['link_source'] = links['link_source'].apply(unquote)\n",
    "links['link_target'] = links['link_target'].apply(unquote)\n",
    "paths_finished['path'] = paths_finished['path'].apply(unquote)\n",
    "paths_unfinished['path'] = paths_unfinished['path'].apply(unquote)\n",
    "paths_unfinished['target'] = paths_unfinished['target'].apply(unquote)\n",
    "categories['article'] = categories['article'].apply(unquote)"
   ]
  },
  {
   "cell_type": "code",
   "execution_count": 5,
   "id": "41956a66-f397-4001-8340-390be3cdcc00",
   "metadata": {
    "tags": []
   },
   "outputs": [
    {
     "data": {
      "text/html": [
       "<div>\n",
       "<style scoped>\n",
       "    .dataframe tbody tr th:only-of-type {\n",
       "        vertical-align: middle;\n",
       "    }\n",
       "\n",
       "    .dataframe tbody tr th {\n",
       "        vertical-align: top;\n",
       "    }\n",
       "\n",
       "    .dataframe thead th {\n",
       "        text-align: right;\n",
       "    }\n",
       "</style>\n",
       "<table border=\"1\" class=\"dataframe\">\n",
       "  <thead>\n",
       "    <tr style=\"text-align: right;\">\n",
       "      <th></th>\n",
       "      <th>source</th>\n",
       "      <th>target</th>\n",
       "      <th>hashedIpAddress</th>\n",
       "      <th>timestamp</th>\n",
       "      <th>durationInSec</th>\n",
       "      <th>game_path</th>\n",
       "      <th>completed</th>\n",
       "      <th>rating</th>\n",
       "      <th>type</th>\n",
       "    </tr>\n",
       "  </thead>\n",
       "  <tbody>\n",
       "    <tr>\n",
       "      <th>0</th>\n",
       "      <td>14th_century</td>\n",
       "      <td>African_slave_trade</td>\n",
       "      <td>6a3701d319fc3754</td>\n",
       "      <td>1297740409</td>\n",
       "      <td>166</td>\n",
       "      <td>8</td>\n",
       "      <td>True</td>\n",
       "      <td>NaN</td>\n",
       "      <td>NaN</td>\n",
       "    </tr>\n",
       "    <tr>\n",
       "      <th>1</th>\n",
       "      <td>14th_century</td>\n",
       "      <td>African_slave_trade</td>\n",
       "      <td>3824310e536af032</td>\n",
       "      <td>1344753412</td>\n",
       "      <td>88</td>\n",
       "      <td>4</td>\n",
       "      <td>True</td>\n",
       "      <td>3.0</td>\n",
       "      <td>NaN</td>\n",
       "    </tr>\n",
       "    <tr>\n",
       "      <th>2</th>\n",
       "      <td>14th_century</td>\n",
       "      <td>African_slave_trade</td>\n",
       "      <td>415612e93584d30e</td>\n",
       "      <td>1349298640</td>\n",
       "      <td>138</td>\n",
       "      <td>7</td>\n",
       "      <td>True</td>\n",
       "      <td>NaN</td>\n",
       "      <td>NaN</td>\n",
       "    </tr>\n",
       "    <tr>\n",
       "      <th>3</th>\n",
       "      <td>14th_century</td>\n",
       "      <td>Greece</td>\n",
       "      <td>64dd5cd342e3780c</td>\n",
       "      <td>1265613925</td>\n",
       "      <td>37</td>\n",
       "      <td>3</td>\n",
       "      <td>True</td>\n",
       "      <td>NaN</td>\n",
       "      <td>NaN</td>\n",
       "    </tr>\n",
       "    <tr>\n",
       "      <th>4</th>\n",
       "      <td>14th_century</td>\n",
       "      <td>John_F._Kennedy</td>\n",
       "      <td>015245d773376aab</td>\n",
       "      <td>1366730828</td>\n",
       "      <td>175</td>\n",
       "      <td>6</td>\n",
       "      <td>True</td>\n",
       "      <td>3.0</td>\n",
       "      <td>NaN</td>\n",
       "    </tr>\n",
       "  </tbody>\n",
       "</table>\n",
       "</div>"
      ],
      "text/plain": [
       "         source               target   hashedIpAddress   timestamp  \\\n",
       "0  14th_century  African_slave_trade  6a3701d319fc3754  1297740409   \n",
       "1  14th_century  African_slave_trade  3824310e536af032  1344753412   \n",
       "2  14th_century  African_slave_trade  415612e93584d30e  1349298640   \n",
       "3  14th_century               Greece  64dd5cd342e3780c  1265613925   \n",
       "4  14th_century      John_F._Kennedy  015245d773376aab  1366730828   \n",
       "\n",
       "   durationInSec  game_path  completed  rating type  \n",
       "0            166          8       True     NaN  NaN  \n",
       "1             88          4       True     3.0  NaN  \n",
       "2            138          7       True     NaN  NaN  \n",
       "3             37          3       True     NaN  NaN  \n",
       "4            175          6       True     3.0  NaN  "
      ]
     },
     "execution_count": 5,
     "metadata": {},
     "output_type": "execute_result"
    }
   ],
   "source": [
    "# expand the finished paths\n",
    "path_fin = paths_finished.copy()\n",
    "path_fin = path_fin.assign(source=paths_finished['path'].apply(lambda x: seperate_path(x)[0]),\n",
    "                           target=paths_finished['path'].apply(lambda x: seperate_path(x)[1]),\n",
    "                           game_path=paths_finished['path'].apply(lambda x: seperate_path(x)[2]),\n",
    "                           completed=True)\n",
    "\n",
    "# expand the unfinished paths\n",
    "path_ufin = paths_unfinished.copy()\n",
    "path_ufin = path_ufin.assign(source=paths_unfinished['path'].apply(lambda x: seperate_path(x)[0]),\n",
    "                             failure_article=paths_unfinished['path'].apply(lambda x: seperate_path(x)[1]),\n",
    "                             game_path=paths_unfinished['path'].apply(lambda x: seperate_path(x)[2]),\n",
    "                             completed=False,\n",
    "                             target=paths_unfinished[\"target\"])\n",
    "\n",
    "# construct a new dataframe: path_overview\n",
    "path_overview = pd.concat([path_fin, path_ufin], ignore_index=True)[[\"source\", \"target\",  \"hashedIpAddress\", \"timestamp\",\n",
    "                                                                     \"durationInSec\", \"game_path\",\n",
    "                                                                     \"completed\", \"rating\",\"type\"]]\n",
    "path_overview.head()"
   ]
  },
  {
   "cell_type": "code",
   "execution_count": 6,
   "id": "7333a46b-9b58-4f79-8971-e67e2bbfbf8a",
   "metadata": {
    "tags": []
   },
   "outputs": [],
   "source": [
    "articles[\"index\"] = articles.index\n",
    "help_articles = articles.set_index(\"article\")\n",
    "\n",
    "# shortest path length is added to the path_overview\n",
    "# Create a copy of the 'path_overview' DataFrame to avoid modifying the original\n",
    "path_overview_copy = path_overview.copy()\n",
    "\n",
    "# Apply the find_path_distance function to each row\n",
    "path_overview_copy['shortest_distance'] = path_overview_copy.apply(\n",
    "    lambda row: find_path_distance(row['source'], row['target'], help_articles), axis=1\n",
    ")\n",
    "\n",
    "# Update the original 'path_overview' DataFrame with the new 'shortest_distance' column\n",
    "path_overview['shortest_distance'] = path_overview_copy['shortest_distance']"
   ]
  },
  {
   "cell_type": "code",
   "execution_count": 7,
   "id": "e0cd9bcc-6bfa-45e9-aab5-898e17f14742",
   "metadata": {
    "tags": []
   },
   "outputs": [
    {
     "data": {
      "text/html": [
       "<div>\n",
       "<style scoped>\n",
       "    .dataframe tbody tr th:only-of-type {\n",
       "        vertical-align: middle;\n",
       "    }\n",
       "\n",
       "    .dataframe tbody tr th {\n",
       "        vertical-align: top;\n",
       "    }\n",
       "\n",
       "    .dataframe thead th {\n",
       "        text-align: right;\n",
       "    }\n",
       "</style>\n",
       "<table border=\"1\" class=\"dataframe\">\n",
       "  <thead>\n",
       "    <tr style=\"text-align: right;\">\n",
       "      <th></th>\n",
       "      <th>source</th>\n",
       "      <th>target</th>\n",
       "      <th>hashedIpAddress</th>\n",
       "      <th>timestamp</th>\n",
       "      <th>shortest_distance</th>\n",
       "      <th>durationInSec</th>\n",
       "      <th>game_path</th>\n",
       "      <th>completed</th>\n",
       "      <th>rating</th>\n",
       "      <th>type</th>\n",
       "    </tr>\n",
       "  </thead>\n",
       "  <tbody>\n",
       "    <tr>\n",
       "      <th>0</th>\n",
       "      <td>14th_century</td>\n",
       "      <td>African_slave_trade</td>\n",
       "      <td>6a3701d319fc3754</td>\n",
       "      <td>1297740409</td>\n",
       "      <td>3.0</td>\n",
       "      <td>166</td>\n",
       "      <td>8</td>\n",
       "      <td>True</td>\n",
       "      <td>NaN</td>\n",
       "      <td>NaN</td>\n",
       "    </tr>\n",
       "    <tr>\n",
       "      <th>1</th>\n",
       "      <td>14th_century</td>\n",
       "      <td>African_slave_trade</td>\n",
       "      <td>3824310e536af032</td>\n",
       "      <td>1344753412</td>\n",
       "      <td>3.0</td>\n",
       "      <td>88</td>\n",
       "      <td>4</td>\n",
       "      <td>True</td>\n",
       "      <td>3.0</td>\n",
       "      <td>NaN</td>\n",
       "    </tr>\n",
       "    <tr>\n",
       "      <th>2</th>\n",
       "      <td>14th_century</td>\n",
       "      <td>African_slave_trade</td>\n",
       "      <td>415612e93584d30e</td>\n",
       "      <td>1349298640</td>\n",
       "      <td>3.0</td>\n",
       "      <td>138</td>\n",
       "      <td>7</td>\n",
       "      <td>True</td>\n",
       "      <td>NaN</td>\n",
       "      <td>NaN</td>\n",
       "    </tr>\n",
       "    <tr>\n",
       "      <th>3</th>\n",
       "      <td>14th_century</td>\n",
       "      <td>Greece</td>\n",
       "      <td>64dd5cd342e3780c</td>\n",
       "      <td>1265613925</td>\n",
       "      <td>2.0</td>\n",
       "      <td>37</td>\n",
       "      <td>3</td>\n",
       "      <td>True</td>\n",
       "      <td>NaN</td>\n",
       "      <td>NaN</td>\n",
       "    </tr>\n",
       "    <tr>\n",
       "      <th>4</th>\n",
       "      <td>14th_century</td>\n",
       "      <td>John_F._Kennedy</td>\n",
       "      <td>015245d773376aab</td>\n",
       "      <td>1366730828</td>\n",
       "      <td>3.0</td>\n",
       "      <td>175</td>\n",
       "      <td>6</td>\n",
       "      <td>True</td>\n",
       "      <td>3.0</td>\n",
       "      <td>NaN</td>\n",
       "    </tr>\n",
       "    <tr>\n",
       "      <th>...</th>\n",
       "      <td>...</td>\n",
       "      <td>...</td>\n",
       "      <td>...</td>\n",
       "      <td>...</td>\n",
       "      <td>...</td>\n",
       "      <td>...</td>\n",
       "      <td>...</td>\n",
       "      <td>...</td>\n",
       "      <td>...</td>\n",
       "      <td>...</td>\n",
       "    </tr>\n",
       "    <tr>\n",
       "      <th>76188</th>\n",
       "      <td>Franz_Kafka</td>\n",
       "      <td>Cholera</td>\n",
       "      <td>109ed71f571d86e9</td>\n",
       "      <td>1389787605</td>\n",
       "      <td>3.0</td>\n",
       "      <td>180</td>\n",
       "      <td>7</td>\n",
       "      <td>False</td>\n",
       "      <td>NaN</td>\n",
       "      <td>restart</td>\n",
       "    </tr>\n",
       "    <tr>\n",
       "      <th>76189</th>\n",
       "      <td>Modern_history</td>\n",
       "      <td>Hollandic</td>\n",
       "      <td>232f992e57d43e8d</td>\n",
       "      <td>1389787697</td>\n",
       "      <td>3.0</td>\n",
       "      <td>6</td>\n",
       "      <td>0</td>\n",
       "      <td>False</td>\n",
       "      <td>NaN</td>\n",
       "      <td>restart</td>\n",
       "    </tr>\n",
       "    <tr>\n",
       "      <th>76190</th>\n",
       "      <td>Computer_programming</td>\n",
       "      <td>The_Beatles</td>\n",
       "      <td>2e09a7224600a7cd</td>\n",
       "      <td>1389798400</td>\n",
       "      <td>3.0</td>\n",
       "      <td>1900</td>\n",
       "      <td>4</td>\n",
       "      <td>False</td>\n",
       "      <td>NaN</td>\n",
       "      <td>timeout</td>\n",
       "    </tr>\n",
       "    <tr>\n",
       "      <th>76191</th>\n",
       "      <td>Jamaica</td>\n",
       "      <td>Alan_Turing</td>\n",
       "      <td>60af9e2138051b96</td>\n",
       "      <td>1389799481</td>\n",
       "      <td>3.0</td>\n",
       "      <td>1903</td>\n",
       "      <td>3</td>\n",
       "      <td>False</td>\n",
       "      <td>NaN</td>\n",
       "      <td>timeout</td>\n",
       "    </tr>\n",
       "    <tr>\n",
       "      <th>76192</th>\n",
       "      <td>Mark_Antony</td>\n",
       "      <td>Feather</td>\n",
       "      <td>1cf0cbb3281049ab</td>\n",
       "      <td>1389822841</td>\n",
       "      <td>3.0</td>\n",
       "      <td>352</td>\n",
       "      <td>4</td>\n",
       "      <td>False</td>\n",
       "      <td>NaN</td>\n",
       "      <td>restart</td>\n",
       "    </tr>\n",
       "  </tbody>\n",
       "</table>\n",
       "<p>76156 rows × 10 columns</p>\n",
       "</div>"
      ],
      "text/plain": [
       "                     source               target   hashedIpAddress  \\\n",
       "0              14th_century  African_slave_trade  6a3701d319fc3754   \n",
       "1              14th_century  African_slave_trade  3824310e536af032   \n",
       "2              14th_century  African_slave_trade  415612e93584d30e   \n",
       "3              14th_century               Greece  64dd5cd342e3780c   \n",
       "4              14th_century      John_F._Kennedy  015245d773376aab   \n",
       "...                     ...                  ...               ...   \n",
       "76188           Franz_Kafka              Cholera  109ed71f571d86e9   \n",
       "76189        Modern_history            Hollandic  232f992e57d43e8d   \n",
       "76190  Computer_programming          The_Beatles  2e09a7224600a7cd   \n",
       "76191               Jamaica          Alan_Turing  60af9e2138051b96   \n",
       "76192           Mark_Antony              Feather  1cf0cbb3281049ab   \n",
       "\n",
       "        timestamp  shortest_distance  durationInSec  game_path  completed  \\\n",
       "0      1297740409                3.0            166          8       True   \n",
       "1      1344753412                3.0             88          4       True   \n",
       "2      1349298640                3.0            138          7       True   \n",
       "3      1265613925                2.0             37          3       True   \n",
       "4      1366730828                3.0            175          6       True   \n",
       "...           ...                ...            ...        ...        ...   \n",
       "76188  1389787605                3.0            180          7      False   \n",
       "76189  1389787697                3.0              6          0      False   \n",
       "76190  1389798400                3.0           1900          4      False   \n",
       "76191  1389799481                3.0           1903          3      False   \n",
       "76192  1389822841                3.0            352          4      False   \n",
       "\n",
       "       rating     type  \n",
       "0         NaN      NaN  \n",
       "1         3.0      NaN  \n",
       "2         NaN      NaN  \n",
       "3         NaN      NaN  \n",
       "4         3.0      NaN  \n",
       "...       ...      ...  \n",
       "76188     NaN  restart  \n",
       "76189     NaN  restart  \n",
       "76190     NaN  timeout  \n",
       "76191     NaN  timeout  \n",
       "76192     NaN  restart  \n",
       "\n",
       "[76156 rows x 10 columns]"
      ]
     },
     "metadata": {},
     "output_type": "display_data"
    }
   ],
   "source": [
    "#remove all rows where the source or target article is not among the available articles in the dataset\n",
    "path_overview = path_overview.drop(path_overview[~(path_overview['source'].isin(articles['article'].array))].index)\n",
    "path_overview = path_overview.drop(path_overview[~(path_overview['target'].isin(articles['article'].array))].index)\n",
    "\n",
    "# remove all rows where there is no path between the source article and target article\n",
    "path_overview = path_overview.drop(path_overview[path_overview['shortest_distance'] == -1].index) \n",
    "path_overview.insert(4, 'shortest_distance', path_overview.pop('shortest_distance'))\n",
    "\n",
    "# Translating article names from URL to latin characters\n",
    "path_overview['source'].apply(unquote)\n",
    "path_overview['target'].apply(unquote)\n",
    "\n",
    "display(path_overview)"
   ]
  },
  {
   "cell_type": "markdown",
   "id": "3ddfb7cc-868a-47e4-a3c3-ddeb9be94c46",
   "metadata": {},
   "source": [
    "Another data wrangling step is to build a dataframe that contains the main categories of the articles."
   ]
  },
  {
   "cell_type": "code",
   "execution_count": 8,
   "id": "f680d637-6f16-449a-9ebd-c12ea6f897f1",
   "metadata": {
    "tags": []
   },
   "outputs": [
    {
     "data": {
      "text/html": [
       "<div>\n",
       "<style scoped>\n",
       "    .dataframe tbody tr th:only-of-type {\n",
       "        vertical-align: middle;\n",
       "    }\n",
       "\n",
       "    .dataframe tbody tr th {\n",
       "        vertical-align: top;\n",
       "    }\n",
       "\n",
       "    .dataframe thead th {\n",
       "        text-align: right;\n",
       "    }\n",
       "</style>\n",
       "<table border=\"1\" class=\"dataframe\">\n",
       "  <thead>\n",
       "    <tr style=\"text-align: right;\">\n",
       "      <th></th>\n",
       "      <th>article</th>\n",
       "      <th>subject_category</th>\n",
       "    </tr>\n",
       "  </thead>\n",
       "  <tbody>\n",
       "    <tr>\n",
       "      <th>0</th>\n",
       "      <td>Áedán_mac_Gabráin</td>\n",
       "      <td>History</td>\n",
       "    </tr>\n",
       "    <tr>\n",
       "      <th>1</th>\n",
       "      <td>Áedán_mac_Gabráin</td>\n",
       "      <td>People</td>\n",
       "    </tr>\n",
       "    <tr>\n",
       "      <th>2</th>\n",
       "      <td>Åland</td>\n",
       "      <td>Countries</td>\n",
       "    </tr>\n",
       "    <tr>\n",
       "      <th>3</th>\n",
       "      <td>Åland</td>\n",
       "      <td>Geography</td>\n",
       "    </tr>\n",
       "    <tr>\n",
       "      <th>4</th>\n",
       "      <td>Édouard_Manet</td>\n",
       "      <td>People</td>\n",
       "    </tr>\n",
       "  </tbody>\n",
       "</table>\n",
       "</div>"
      ],
      "text/plain": [
       "             article subject_category\n",
       "0  Áedán_mac_Gabráin          History\n",
       "1  Áedán_mac_Gabráin           People\n",
       "2              Åland        Countries\n",
       "3              Åland        Geography\n",
       "4      Édouard_Manet           People"
      ]
     },
     "execution_count": 8,
     "metadata": {},
     "output_type": "execute_result"
    }
   ],
   "source": [
    "# Apply the custom function extract_subject_category() to create a new 'subject_category' column\n",
    "categories['subject_category'] = categories['category'].apply(extract_subject_category)\n",
    "\n",
    "# Create a dataFrame with only the relevant columns\n",
    "main_categories = categories[['article', 'subject_category']]\n",
    "\n",
    "# Display the new DataFrame\n",
    "main_categories.head()"
   ]
  },
  {
   "cell_type": "markdown",
   "id": "96608309-1db3-4eb3-854a-17579c7deb92",
   "metadata": {
    "tags": []
   },
   "source": [
    "Finally, we build a dictionary that maps articles country names to country names of the UN dataset and one that maps countries to their continent (world region)."
   ]
  },
  {
   "cell_type": "code",
   "execution_count": 9,
   "id": "43312ba3-d94a-4f15-860d-b8aeb7a9f99e",
   "metadata": {
    "tags": []
   },
   "outputs": [],
   "source": [
    "# Below we find the articles which have different names to those outlined in the UN dataset. We then manually found the corresponding name in the UN\n",
    "# dataset and created a dictionary to map article names -> UN dataset name\n",
    "\n",
    "countries = main_categories[main_categories['subject_category'] == 'Countries']['article'].values\n",
    "\n",
    "countries_missing = []\n",
    "\n",
    "for country in countries:\n",
    "    country = country.replace('_',' ')\n",
    "    if country not in UN_countries['Country or Area'].values:\n",
    "        countries_missing.append(country)\n",
    "\n",
    "replacement_country_names = [\n",
    "    'Åland Islands', 'Ireland', 'Georgia', 'United Arab Emirates', 'Bolivia (Plurinational State of)',\n",
    "    'Brunei Darussalam', 'Côte d’Ivoire', 'Cabo Verde', 'Czechia', 'United Arab Emirates',\n",
    "    'Timor-Leste', 'Chile', 'Falkland Islands (Malvinas)', 'Micronesia (Federated States of)',\n",
    "    'Ecuador', 'State of Palestine', 'Georgia', 'China, Hong Kong Special Administrative Region',\n",
    "    'Iran (Islamic Republic of)', 'Republic of Korea', '', 'Lao People\\'s Democratic Republic', \n",
    "    'Republic of Moldova', 'Netherlands (Kingdom of the)', 'Sint Maarten (Dutch part)', \n",
    "    'Democratic People\\'s Republic of Korea', 'State of Palestine', 'China', 'China', 'Ireland',\n",
    "    'North Macedonia', 'Russian Federation', 'Sao Tome and Principe', 'Serbia', 'Republic of Korea',\n",
    "    \"\", 'Eswatini', 'Syrian Arab Republic', 'China', 'United Republic of Tanzania', 'Bahamas',\n",
    "    'Gambia', 'China', 'Türkiye', 'Cyprus', 'United Kingdom of Great Britain and Northern Ireland',\n",
    "    'United States of America', 'Holy See', 'Venezuela (Bolivarian Republic of)', 'Viet Nam', 'State of Palestine'\n",
    "]\n",
    "\n",
    "replacement_countries = dict(zip(countries_missing, replacement_country_names))"
   ]
  },
  {
   "cell_type": "code",
   "execution_count": 10,
   "id": "c0fe7508-7b16-4e1c-8ef8-ddcee65e0f4c",
   "metadata": {
    "tags": []
   },
   "outputs": [],
   "source": [
    "# Creating a dictionary to map each country to its continent (region).\n",
    "country_to_region = {}\n",
    "\n",
    "for country in countries:\n",
    "    country_to_region[country] = get_region(country)\n",
    "\n",
    "# 'Kosovo' and 'South_Ossetia' are added manually as they are not present in the UN dataframe.\n",
    "country_to_region['Kosovo'] = 'Europe'\n",
    "country_to_region['South_Ossetia'] = 'Asia'\n",
    "\n",
    "df_country_region = pd.DataFrame.from_dict(country_to_region, \n",
    "                                           orient='index',\n",
    "                                           dtype=None,\n",
    "                                           columns=['region'])\n",
    "\n",
    "df_country_region.reset_index(inplace=True)\n",
    "df_country_region.rename(columns={\"index\": \"article\"}, inplace=True)"
   ]
  },
  {
   "cell_type": "markdown",
   "id": "0dc2a4a0-f49a-439e-b38c-dc61b1e33c8b",
   "metadata": {
    "tags": []
   },
   "source": [
    "## Data analysis\n",
    "We now focus on perfoming descriptive statistics and initial analysis that supports our research questions.\n"
   ]
  },
  {
   "cell_type": "code",
   "execution_count": 11,
   "id": "31dcb21a-33ee-4efc-89a4-6eb27f150e00",
   "metadata": {
    "tags": []
   },
   "outputs": [
    {
     "data": {
      "image/png": "[encoded data removed]",
      "text/plain": [
       "<Figure size 640x480 with 1 Axes>"
      ]
     },
     "metadata": {},
     "output_type": "display_data"
    }
   ],
   "source": [
    "# Plotting the distribution of countries in the dataset based on their continent, which we will consider their region.\n",
    "continents_count = pd.DataFrame(country_to_region.values()).value_counts()\n",
    "\n",
    "continents_count.plot(kind='bar')\n",
    "plt.title(\"Counts of articles grouped by continents\")\n",
    "plt.xlabel(\"Continent\")\n",
    "plt.ylabel(\"Count\")\n",
    "plt.show()"
   ]
  },
  {
   "cell_type": "markdown",
   "id": "9b525004-db32-4a5b-8143-01d915d24e34",
   "metadata": {},
   "source": [
    "This view of the number of country related articles by continent reflects that there is a reasonble number of articles present in the data set to perform our research."
   ]
  },
  {
   "cell_type": "markdown",
   "id": "4ca178e3-e8df-45e4-9ff2-7fd340153f09",
   "metadata": {
    "tags": []
   },
   "source": [
    "## First research questions\n",
    "We focus on the Wikipedia articles about countries and their hyperlink structure in the Wikispeedia dataset.\n",
    "### Summary statistics for the number of in- and out- degrees of each region "
   ]
  },
  {
   "cell_type": "code",
   "execution_count": 12,
   "id": "f41ef06c-edaa-409f-968e-7604963b0d53",
   "metadata": {
    "tags": []
   },
   "outputs": [],
   "source": [
    "links_outdegree = links.copy()\n",
    "links_outdegree.columns = ['article','link_out']\n",
    "out_degrees = links_outdegree.groupby('article').count()\n",
    "out_degrees.sort_values(by='link_out', ascending=False, inplace=True)\n",
    "\n",
    "links_indegree = links.copy()\n",
    "links_indegree.columns = ['link_in','article']\n",
    "in_degrees = links_indegree.groupby('article').count()\n",
    "in_degrees.sort_values(by='link_in', ascending=False, inplace=True)\n",
    "\n",
    "link_counts = out_degrees.merge(in_degrees, how='outer', on='article')"
   ]
  },
  {
   "cell_type": "code",
   "execution_count": 13,
   "id": "f63f9f82-45e4-4264-8a8f-506e55cac929",
   "metadata": {
    "tags": []
   },
   "outputs": [
    {
     "data": {
      "text/html": [
       "<div>\n",
       "<style scoped>\n",
       "    .dataframe tbody tr th:only-of-type {\n",
       "        vertical-align: middle;\n",
       "    }\n",
       "\n",
       "    .dataframe tbody tr th {\n",
       "        vertical-align: top;\n",
       "    }\n",
       "\n",
       "    .dataframe thead th {\n",
       "        text-align: right;\n",
       "    }\n",
       "</style>\n",
       "<table border=\"1\" class=\"dataframe\">\n",
       "  <thead>\n",
       "    <tr style=\"text-align: right;\">\n",
       "      <th></th>\n",
       "      <th>article</th>\n",
       "      <th>link_out</th>\n",
       "      <th>link_in</th>\n",
       "      <th>region</th>\n",
       "    </tr>\n",
       "  </thead>\n",
       "  <tbody>\n",
       "    <tr>\n",
       "      <th>0</th>\n",
       "      <td>United_States</td>\n",
       "      <td>294.0</td>\n",
       "      <td>1551.0</td>\n",
       "      <td>Americas</td>\n",
       "    </tr>\n",
       "    <tr>\n",
       "      <th>1</th>\n",
       "      <td>Lebanon</td>\n",
       "      <td>192.0</td>\n",
       "      <td>114.0</td>\n",
       "      <td>Asia</td>\n",
       "    </tr>\n",
       "    <tr>\n",
       "      <th>2</th>\n",
       "      <td>Armenia</td>\n",
       "      <td>186.0</td>\n",
       "      <td>99.0</td>\n",
       "      <td>Asia</td>\n",
       "    </tr>\n",
       "    <tr>\n",
       "      <th>3</th>\n",
       "      <td>Georgia_(country)</td>\n",
       "      <td>180.0</td>\n",
       "      <td>84.0</td>\n",
       "      <td>Asia</td>\n",
       "    </tr>\n",
       "    <tr>\n",
       "      <th>4</th>\n",
       "      <td>Turkey</td>\n",
       "      <td>172.0</td>\n",
       "      <td>249.0</td>\n",
       "      <td>Asia</td>\n",
       "    </tr>\n",
       "  </tbody>\n",
       "</table>\n",
       "</div>"
      ],
      "text/plain": [
       "             article  link_out  link_in    region\n",
       "0      United_States     294.0   1551.0  Americas\n",
       "1            Lebanon     192.0    114.0      Asia\n",
       "2            Armenia     186.0     99.0      Asia\n",
       "3  Georgia_(country)     180.0     84.0      Asia\n",
       "4             Turkey     172.0    249.0      Asia"
      ]
     },
     "execution_count": 13,
     "metadata": {},
     "output_type": "execute_result"
    }
   ],
   "source": [
    "country_links = link_counts[link_counts.index.isin(countries)]\n",
    "country_links.reset_index(inplace=True)\n",
    "country_links = country_links.merge(df_country_region, on='article', how='left')\n",
    "country_links.head()"
   ]
  },
  {
   "cell_type": "code",
   "execution_count": 14,
   "id": "9d60909d-7079-4922-ba6f-fc9bbc9c68fa",
   "metadata": {
    "tags": []
   },
   "outputs": [],
   "source": [
    "# Initialising empty dataframes\n",
    "link_out_summary = pd.DataFrame()\n",
    "link_in_summary = pd.DataFrame()\n",
    "\n",
    "# Getting summary statistics for each region for in- and out- degrees\n",
    "links_means = country_links[['link_out','link_in','region']].groupby(['region']).mean()\n",
    "links_std = country_links[['link_out','link_in','region']].groupby(['region']).std()\n",
    "links_max = country_links[['link_out','link_in','region']].groupby(['region']).max()\n",
    "links_median = country_links[['link_out','link_in','region']].groupby(['region']).median()\n",
    "\n",
    "for df, kind in [(links_means, 'mean'), (links_median, 'median'), (links_std, \"std\"), (links_max, 'max')]:\n",
    "    link_out_summary[kind] = df['link_out']\n",
    "    link_in_summary[kind] = df['link_in']"
   ]
  },
  {
   "cell_type": "code",
   "execution_count": 15,
   "id": "8a9cb588-fd6c-48d4-aef9-f13532d309b0",
   "metadata": {
    "tags": []
   },
   "outputs": [
    {
     "name": "stdout",
     "output_type": "stream",
     "text": [
      "Link in descriptive statistics\n"
     ]
    },
    {
     "data": {
      "text/html": [
       "<div>\n",
       "<style scoped>\n",
       "    .dataframe tbody tr th:only-of-type {\n",
       "        vertical-align: middle;\n",
       "    }\n",
       "\n",
       "    .dataframe tbody tr th {\n",
       "        vertical-align: top;\n",
       "    }\n",
       "\n",
       "    .dataframe thead th {\n",
       "        text-align: right;\n",
       "    }\n",
       "</style>\n",
       "<table border=\"1\" class=\"dataframe\">\n",
       "  <thead>\n",
       "    <tr style=\"text-align: right;\">\n",
       "      <th></th>\n",
       "      <th>mean</th>\n",
       "      <th>median</th>\n",
       "      <th>std</th>\n",
       "      <th>max</th>\n",
       "    </tr>\n",
       "    <tr>\n",
       "      <th>region</th>\n",
       "      <th></th>\n",
       "      <th></th>\n",
       "      <th></th>\n",
       "      <th></th>\n",
       "    </tr>\n",
       "  </thead>\n",
       "  <tbody>\n",
       "    <tr>\n",
       "      <th>Africa</th>\n",
       "      <td>81.415094</td>\n",
       "      <td>67.0</td>\n",
       "      <td>56.970449</td>\n",
       "      <td>362.0</td>\n",
       "    </tr>\n",
       "    <tr>\n",
       "      <th>Americas</th>\n",
       "      <td>103.098039</td>\n",
       "      <td>46.0</td>\n",
       "      <td>225.440392</td>\n",
       "      <td>1551.0</td>\n",
       "    </tr>\n",
       "    <tr>\n",
       "      <th>Asia</th>\n",
       "      <td>118.016667</td>\n",
       "      <td>83.0</td>\n",
       "      <td>119.882498</td>\n",
       "      <td>611.0</td>\n",
       "    </tr>\n",
       "    <tr>\n",
       "      <th>Europe</th>\n",
       "      <td>208.191489</td>\n",
       "      <td>110.0</td>\n",
       "      <td>225.054741</td>\n",
       "      <td>972.0</td>\n",
       "    </tr>\n",
       "    <tr>\n",
       "      <th>Oceania</th>\n",
       "      <td>83.600000</td>\n",
       "      <td>31.0</td>\n",
       "      <td>150.264434</td>\n",
       "      <td>563.0</td>\n",
       "    </tr>\n",
       "  </tbody>\n",
       "</table>\n",
       "</div>"
      ],
      "text/plain": [
       "                mean  median         std     max\n",
       "region                                          \n",
       "Africa     81.415094    67.0   56.970449   362.0\n",
       "Americas  103.098039    46.0  225.440392  1551.0\n",
       "Asia      118.016667    83.0  119.882498   611.0\n",
       "Europe    208.191489   110.0  225.054741   972.0\n",
       "Oceania    83.600000    31.0  150.264434   563.0"
      ]
     },
     "metadata": {},
     "output_type": "display_data"
    }
   ],
   "source": [
    "print(\"Link in descriptive statistics\")\n",
    "display(link_in_summary)"
   ]
  },
  {
   "cell_type": "code",
   "execution_count": 16,
   "id": "4c01dacd-2029-4bbb-acc9-000e1e2636d3",
   "metadata": {
    "tags": []
   },
   "outputs": [
    {
     "name": "stdout",
     "output_type": "stream",
     "text": [
      "Link out descriptive statistics\n"
     ]
    },
    {
     "data": {
      "text/html": [
       "<div>\n",
       "<style scoped>\n",
       "    .dataframe tbody tr th:only-of-type {\n",
       "        vertical-align: middle;\n",
       "    }\n",
       "\n",
       "    .dataframe tbody tr th {\n",
       "        vertical-align: top;\n",
       "    }\n",
       "\n",
       "    .dataframe thead th {\n",
       "        text-align: right;\n",
       "    }\n",
       "</style>\n",
       "<table border=\"1\" class=\"dataframe\">\n",
       "  <thead>\n",
       "    <tr style=\"text-align: right;\">\n",
       "      <th></th>\n",
       "      <th>mean</th>\n",
       "      <th>median</th>\n",
       "      <th>std</th>\n",
       "      <th>max</th>\n",
       "    </tr>\n",
       "    <tr>\n",
       "      <th>region</th>\n",
       "      <th></th>\n",
       "      <th></th>\n",
       "      <th></th>\n",
       "      <th></th>\n",
       "    </tr>\n",
       "  </thead>\n",
       "  <tbody>\n",
       "    <tr>\n",
       "      <th>Africa</th>\n",
       "      <td>62.830189</td>\n",
       "      <td>39.0</td>\n",
       "      <td>46.279558</td>\n",
       "      <td>162.0</td>\n",
       "    </tr>\n",
       "    <tr>\n",
       "      <th>Americas</th>\n",
       "      <td>46.019231</td>\n",
       "      <td>37.5</td>\n",
       "      <td>42.885388</td>\n",
       "      <td>294.0</td>\n",
       "    </tr>\n",
       "    <tr>\n",
       "      <th>Asia</th>\n",
       "      <td>61.450000</td>\n",
       "      <td>45.5</td>\n",
       "      <td>46.840669</td>\n",
       "      <td>192.0</td>\n",
       "    </tr>\n",
       "    <tr>\n",
       "      <th>Europe</th>\n",
       "      <td>71.816327</td>\n",
       "      <td>58.0</td>\n",
       "      <td>39.994621</td>\n",
       "      <td>169.0</td>\n",
       "    </tr>\n",
       "    <tr>\n",
       "      <th>Oceania</th>\n",
       "      <td>35.533333</td>\n",
       "      <td>28.0</td>\n",
       "      <td>22.487669</td>\n",
       "      <td>86.0</td>\n",
       "    </tr>\n",
       "  </tbody>\n",
       "</table>\n",
       "</div>"
      ],
      "text/plain": [
       "               mean  median        std    max\n",
       "region                                       \n",
       "Africa    62.830189    39.0  46.279558  162.0\n",
       "Americas  46.019231    37.5  42.885388  294.0\n",
       "Asia      61.450000    45.5  46.840669  192.0\n",
       "Europe    71.816327    58.0  39.994621  169.0\n",
       "Oceania   35.533333    28.0  22.487669   86.0"
      ]
     },
     "metadata": {},
     "output_type": "display_data"
    }
   ],
   "source": [
    "print(\"Link out descriptive statistics\")\n",
    "display(link_out_summary)"
   ]
  },
  {
   "cell_type": "markdown",
   "id": "9c8e9be7-c90e-43cb-a537-a381f01f554c",
   "metadata": {
    "tags": []
   },
   "source": [
    "Here the number of links in and out appears to vary significantly within countries and continent, this variation could be correlated to the article length or else, which supports our first research question."
   ]
  },
  {
   "cell_type": "markdown",
   "id": "eadf9d1c-1461-43bd-95a9-866f21c5e528",
   "metadata": {},
   "source": [
    "## Second section of research questions\n",
    "The focus is on the pathways that were taken by the players, where the target or goal article of the game is a country.\n",
    "### Finished paths and target countries"
   ]
  },
  {
   "cell_type": "code",
   "execution_count": 17,
   "id": "d7a963fe-6a66-4d80-b900-abd536429290",
   "metadata": {},
   "outputs": [],
   "source": [
    "country_path_overview = path_overview[path_overview['target'].isin(countries)]\n",
    "\n",
    "country_path_overview = country_path_overview.merge(df_country_region, \n",
    "                                                    left_on='target', \n",
    "                                                    right_on='article', \n",
    "                                                    how='left').drop(['article'], axis=1)"
   ]
  },
  {
   "cell_type": "code",
   "execution_count": 18,
   "id": "aa2d080e-1d4a-4ce6-a038-b780061e27ca",
   "metadata": {},
   "outputs": [
    {
     "data": {
      "text/html": [
       "<div>\n",
       "<style scoped>\n",
       "    .dataframe tbody tr th:only-of-type {\n",
       "        vertical-align: middle;\n",
       "    }\n",
       "\n",
       "    .dataframe tbody tr th {\n",
       "        vertical-align: top;\n",
       "    }\n",
       "\n",
       "    .dataframe thead th {\n",
       "        text-align: right;\n",
       "    }\n",
       "</style>\n",
       "<table border=\"1\" class=\"dataframe\">\n",
       "  <thead>\n",
       "    <tr style=\"text-align: right;\">\n",
       "      <th></th>\n",
       "      <th>target</th>\n",
       "    </tr>\n",
       "    <tr>\n",
       "      <th>region</th>\n",
       "      <th></th>\n",
       "    </tr>\n",
       "  </thead>\n",
       "  <tbody>\n",
       "    <tr>\n",
       "      <th>Africa</th>\n",
       "      <td>857</td>\n",
       "    </tr>\n",
       "    <tr>\n",
       "      <th>Americas</th>\n",
       "      <td>989</td>\n",
       "    </tr>\n",
       "    <tr>\n",
       "      <th>Asia</th>\n",
       "      <td>1557</td>\n",
       "    </tr>\n",
       "    <tr>\n",
       "      <th>Europe</th>\n",
       "      <td>1141</td>\n",
       "    </tr>\n",
       "    <tr>\n",
       "      <th>Oceania</th>\n",
       "      <td>201</td>\n",
       "    </tr>\n",
       "  </tbody>\n",
       "</table>\n",
       "</div>"
      ],
      "text/plain": [
       "          target\n",
       "region          \n",
       "Africa       857\n",
       "Americas     989\n",
       "Asia        1557\n",
       "Europe      1141\n",
       "Oceania      201"
      ]
     },
     "execution_count": 18,
     "metadata": {},
     "output_type": "execute_result"
    }
   ],
   "source": [
    "region_completed_count = country_path_overview[['region','completed','target']].groupby(['region','completed']).count()\n",
    "region_count = country_path_overview[['region','target']].groupby(['region']).count()\n",
    "# region_completed_count.set_index(['region'], inplace=True)\n",
    "region_count"
   ]
  },
  {
   "cell_type": "markdown",
   "id": "03a861ee-480b-4f81-9704-c8d20a359420",
   "metadata": {},
   "source": [
    "Each continent is reasonably represented in terms of number of times it was a target of the game, this supports the fact that should be enough data for us to analysis the ratio of finished/unfinished pathways."
   ]
  },
  {
   "cell_type": "code",
   "execution_count": 19,
   "id": "c44ad643-e2a3-4a35-8dad-80271861592a",
   "metadata": {},
   "outputs": [
    {
     "name": "stdout",
     "output_type": "stream",
     "text": [
      "Proportion of unfinished paths with Africa as target: 11.4352%\n",
      "Proportion of finished paths with Africa as target: 88.5648%\n",
      "Proportion of unfinished paths with Americas as target: 15.6724%\n",
      "Proportion of finished paths with Americas as target: 84.3276%\n",
      "Proportion of unfinished paths with Asia as target: 11.8176%\n",
      "Proportion of finished paths with Asia as target: 88.1824%\n",
      "Proportion of unfinished paths with Europe as target: 8.9395%\n",
      "Proportion of finished paths with Europe as target: 91.0605%\n",
      "Proportion of unfinished paths with Oceania as target: 25.3731%\n",
      "Proportion of finished paths with Oceania as target: 74.6269%\n"
     ]
    }
   ],
   "source": [
    "proportions = pd.DataFrame()\n",
    "\n",
    "for region, completion in region_completed_count.index:\n",
    "    proportion = region_completed_count.loc[(region, completion)] / region_count.loc[region]\n",
    "    if completion:\n",
    "        status = 'finished'\n",
    "    else:\n",
    "         status = 'unfinished'\n",
    "    print(f\"Proportion of {status} paths with {region} as target: {round(proportion.values[0]*100,4)}%\")"
   ]
  },
  {
   "cell_type": "markdown",
   "id": "51ca4f23-0e30-4deb-8430-566178ffdeca",
   "metadata": {
    "tags": []
   },
   "source": [
    "Basic statistics representing the ratio of finished vs unfinished paths towards a country of a specific continent already reflects some difference between the continents. Europe and Africa have the highest finish rate in front of Asia, Oceania and Americas, interestingly Africa was almost two times less a target as Asia. Further correlation test such as the Pearson correlation test could be applied to answer the 3rd research question."
   ]
  },
  {
   "cell_type": "markdown",
   "id": "c06b6db5-de26-4e00-835e-4d604604af46",
   "metadata": {},
   "source": [
    "### Length of pathway analysis"
   ]
  },
  {
   "cell_type": "code",
   "execution_count": 20,
   "id": "be967fde-b753-4080-9cd2-1847355f8d07",
   "metadata": {},
   "outputs": [],
   "source": [
    "regions_paths = country_path_overview[['region','shortest_distance','game_path']][country_path_overview['completed']==True].groupby(by=['region','shortest_distance']).mean().reset_index()"
   ]
  },
  {
   "cell_type": "code",
   "execution_count": 21,
   "id": "7b4ee41e-71e1-433d-8328-708cfb4ad382",
   "metadata": {},
   "outputs": [],
   "source": [
    "regions_paths_1 = regions_paths[regions_paths['shortest_distance'] == 1]\n",
    "regions_paths_2 = regions_paths[regions_paths['shortest_distance'] == 2]\n",
    "regions_paths_3 = regions_paths[regions_paths['shortest_distance'] == 3]\n",
    "regions_paths_4 = regions_paths[regions_paths['shortest_distance'] == 4]"
   ]
  },
  {
   "cell_type": "code",
   "execution_count": 22,
   "id": "da9b4157-716e-4979-a38c-f8581f9f6b41",
   "metadata": {
    "tags": []
   },
   "outputs": [
    {
     "data": {
      "image/png": "[encoded data removed]",
      "text/plain": [
       "<Figure size 1000x800 with 4 Axes>"
      ]
     },
     "metadata": {},
     "output_type": "display_data"
    }
   ],
   "source": [
    "figs, axs = plt.subplots(2,2, figsize=(10,8))\n",
    "\n",
    "figs.suptitle(\"Median played path lengths for finished games, separated by shortest path length\")\n",
    "\n",
    "axs[0,0].bar(regions_paths_1['region'], regions_paths_1['game_path'])\n",
    "axs[0,0].set_title(\"Shortest path = 1\")\n",
    "axs[0,0].set_xlabel(\"Region\")\n",
    "axs[0,0].set_ylabel(\"Median played path length\")\n",
    "\n",
    "axs[0,1].bar(regions_paths_2['region'], regions_paths_2['game_path'])\n",
    "axs[0,1].set_title(\"Shortest path = 2\")\n",
    "axs[0,1].set_xlabel(\"Region\")\n",
    "axs[0,1].set_ylabel(\"Median played path length\")\n",
    "\n",
    "axs[1,0].bar(regions_paths_3['region'], regions_paths_3['game_path'])\n",
    "axs[1,0].set_title(\"Shortest path = 3\")\n",
    "axs[1,0].set_xlabel(\"Region\")\n",
    "axs[1,0].set_ylabel(\"Median played path length\")\n",
    "\n",
    "axs[1,1].bar(regions_paths_4['region'], regions_paths_4['game_path'])\n",
    "axs[1,1].set_title(\"Shortest path = 4\")\n",
    "axs[1,1].set_xlabel(\"Region\")\n",
    "axs[1,1].set_ylabel(\"Median played path length\")\n",
    "\n",
    "plt.tight_layout()\n",
    "plt.show()"
   ]
  },
  {
   "cell_type": "markdown",
   "id": "da229672-b20e-48f2-b0bf-727a24157653",
   "metadata": {},
   "source": [
    "## Third section of research questions\n",
    "The focus for the last two research questions is on trying to control for as many confounders as possible that might influence country wise bias.\n"
   ]
  },
  {
   "cell_type": "code",
   "execution_count": 23,
   "id": "948dcd4b-8bef-48da-8ac2-f1cd901a6d10",
   "metadata": {
    "tags": []
   },
   "outputs": [
    {
     "data": {
      "text/html": [
       "<div>\n",
       "<style scoped>\n",
       "    .dataframe tbody tr th:only-of-type {\n",
       "        vertical-align: middle;\n",
       "    }\n",
       "\n",
       "    .dataframe tbody tr th {\n",
       "        vertical-align: top;\n",
       "    }\n",
       "\n",
       "    .dataframe thead th {\n",
       "        text-align: right;\n",
       "    }\n",
       "</style>\n",
       "<table border=\"1\" class=\"dataframe\">\n",
       "  <thead>\n",
       "    <tr style=\"text-align: right;\">\n",
       "      <th></th>\n",
       "      <th>Country</th>\n",
       "      <th>Article content</th>\n",
       "      <th>Article length</th>\n",
       "    </tr>\n",
       "  </thead>\n",
       "  <tbody>\n",
       "    <tr>\n",
       "      <th>0</th>\n",
       "      <td>Abkhazia</td>\n",
       "      <td>#copyright\\n\\nAbkhazia\\n\\n2007 Schools Wiki...</td>\n",
       "      <td>33641</td>\n",
       "    </tr>\n",
       "    <tr>\n",
       "      <th>1</th>\n",
       "      <td>Abu_Dhabi</td>\n",
       "      <td>#copyright\\n\\nAbu Dhabi\\n\\n2007 Schools Wik...</td>\n",
       "      <td>12121</td>\n",
       "    </tr>\n",
       "    <tr>\n",
       "      <th>2</th>\n",
       "      <td>Afghanistan</td>\n",
       "      <td>#copyright\\n\\nAfghanistan\\n\\n2007 Schools W...</td>\n",
       "      <td>40289</td>\n",
       "    </tr>\n",
       "    <tr>\n",
       "      <th>3</th>\n",
       "      <td>Albania</td>\n",
       "      <td>#copyright\\n\\nAlbania\\n\\n2007 Schools Wikip...</td>\n",
       "      <td>24252</td>\n",
       "    </tr>\n",
       "    <tr>\n",
       "      <th>4</th>\n",
       "      <td>Algeria</td>\n",
       "      <td>#copyright\\n\\nAlgeria\\n\\n2007 Schools Wikip...</td>\n",
       "      <td>34130</td>\n",
       "    </tr>\n",
       "    <tr>\n",
       "      <th>...</th>\n",
       "      <td>...</td>\n",
       "      <td>...</td>\n",
       "      <td>...</td>\n",
       "    </tr>\n",
       "    <tr>\n",
       "      <th>215</th>\n",
       "      <td>West_Bank</td>\n",
       "      <td>#copyright\\n\\nWest Bank\\n\\n2007 Schools Wik...</td>\n",
       "      <td>38505</td>\n",
       "    </tr>\n",
       "    <tr>\n",
       "      <th>216</th>\n",
       "      <td>Western_Sahara</td>\n",
       "      <td>#copyright\\n\\nWestern Sahara\\n\\n2007 School...</td>\n",
       "      <td>26008</td>\n",
       "    </tr>\n",
       "    <tr>\n",
       "      <th>217</th>\n",
       "      <td>Yemen</td>\n",
       "      <td>#copyright\\n\\nYemen\\n\\n2007 Schools Wikiped...</td>\n",
       "      <td>28124</td>\n",
       "    </tr>\n",
       "    <tr>\n",
       "      <th>218</th>\n",
       "      <td>Zambia</td>\n",
       "      <td>#copyright\\n\\nZambia\\n\\n2007 Schools Wikipe...</td>\n",
       "      <td>31152</td>\n",
       "    </tr>\n",
       "    <tr>\n",
       "      <th>219</th>\n",
       "      <td>Zimbabwe</td>\n",
       "      <td>#copyright\\n\\nZimbabwe\\n\\n2007 Schools Wiki...</td>\n",
       "      <td>25255</td>\n",
       "    </tr>\n",
       "  </tbody>\n",
       "</table>\n",
       "<p>220 rows × 3 columns</p>\n",
       "</div>"
      ],
      "text/plain": [
       "            Country                                    Article content  \\\n",
       "0          Abkhazia     #copyright\\n\\nAbkhazia\\n\\n2007 Schools Wiki...   \n",
       "1         Abu_Dhabi     #copyright\\n\\nAbu Dhabi\\n\\n2007 Schools Wik...   \n",
       "2       Afghanistan     #copyright\\n\\nAfghanistan\\n\\n2007 Schools W...   \n",
       "3           Albania     #copyright\\n\\nAlbania\\n\\n2007 Schools Wikip...   \n",
       "4           Algeria     #copyright\\n\\nAlgeria\\n\\n2007 Schools Wikip...   \n",
       "..              ...                                                ...   \n",
       "215       West_Bank     #copyright\\n\\nWest Bank\\n\\n2007 Schools Wik...   \n",
       "216  Western_Sahara     #copyright\\n\\nWestern Sahara\\n\\n2007 School...   \n",
       "217           Yemen     #copyright\\n\\nYemen\\n\\n2007 Schools Wikiped...   \n",
       "218          Zambia     #copyright\\n\\nZambia\\n\\n2007 Schools Wikipe...   \n",
       "219        Zimbabwe     #copyright\\n\\nZimbabwe\\n\\n2007 Schools Wiki...   \n",
       "\n",
       "     Article length  \n",
       "0             33641  \n",
       "1             12121  \n",
       "2             40289  \n",
       "3             24252  \n",
       "4             34130  \n",
       "..              ...  \n",
       "215           38505  \n",
       "216           26008  \n",
       "217           28124  \n",
       "218           31152  \n",
       "219           25255  \n",
       "\n",
       "[220 rows x 3 columns]"
      ]
     },
     "metadata": {},
     "output_type": "display_data"
    }
   ],
   "source": [
    "# Create np.array with name of all articles that are about a country\n",
    "countries = main_categories[main_categories['subject_category'] == 'Countries']['article'].values\n",
    "\n",
    "# Directory where the .txt files are stored\n",
    "directory = \"data/plaintext_articles/\" \n",
    "\n",
    "# Initialize an empty list to store the data\n",
    "data = []\n",
    "\n",
    "# Iterate over all countries\n",
    "for country in countries:\n",
    "    file_path = directory + country + '.txt'\n",
    "\n",
    "# Open the file and read its content into a string\n",
    "    if os.path.exists(file_path):\n",
    "        with open(file_path, 'r', encoding='utf-8') as file:\n",
    "            file_content = file.read()\n",
    "\n",
    "    # Add filname, content and article length to the data list\n",
    "        data.append((country, file_content, len(file_content)))\n",
    "\n",
    "# Create a DataFrame from the data list\n",
    "plaintext_articles = pd.DataFrame(data, columns=['Country', 'Article content', 'Article length'])\n",
    "\n",
    "# Display the DataFrame\n",
    "display(plaintext_articles)\n"
   ]
  },
  {
   "cell_type": "markdown",
   "id": "a2b4422d-8126-41d2-98c0-abf6e180b553",
   "metadata": {
    "tags": []
   },
   "source": [
    "### Sentiment analysis"
   ]
  },
  {
   "cell_type": "code",
   "execution_count": 24,
   "id": "9ea4d248-a307-47a9-8674-9a39ad625778",
   "metadata": {},
   "outputs": [
    {
     "name": "stdout",
     "output_type": "stream",
     "text": [
      "Note: you may need to restart the kernel to use updated packages.\n",
      "Do not use pip3 without activating a virtual environment first!\n",
      "Otherwise, you might break your default Python environment and not be able to start Jupyter again.\n",
      "Check the Documentation on how to deal with virtual environments:\n",
      "🗀 / Documentation / 10_Envs_and_kernels.ipynb\n"
     ]
    }
   ],
   "source": [
    "# Access to Huging Face NLP program\n",
    "\n",
    "%pip install -q transformers\n",
    "!pip3 install emoji==0.6.0\n",
    "from transformers import pipeline\n",
    "\n",
    "def sentiment_analysis(s, model_link = \"finiteautomata/bertweet-base-sentiment-analysis\" , bs = 300):\n",
    "    \"\"\"\n",
    "    Divide a string s into parts of length k.\n",
    "\n",
    "    Args:\n",
    "    s (str): The article to be analyzed\n",
    "    model_link = the sentiment analysis model used from huggingface.com (open source).\n",
    "    If modified, the lines commentet with \"depends on model used, might have to be changed\"\n",
    "    bs(int): The length of each part, aka batch_size. For the default model, the max is 300 token\n",
    "    Returns:\n",
    "    aggregated_df (pd.Dataframe): A Dataframe containing the sentiment analysis summary\n",
    "    sentiment (string): \n",
    "    \"\"\"\n",
    "    input_size = len(s)\n",
    "\n",
    "   \n",
    "    # Initialize chosen model for sentiment analysis\n",
    "    specific_model = pipeline(model= model_link)\n",
    "\n",
    "    return_df = pd.DataFrame()\n",
    "    parts = [s[i:i+bs] for i in range(0, input_size, bs)]\n",
    "\n",
    "    for part in parts:\n",
    "        output = specific_model(part)\n",
    "        new_row = pd.DataFrame.from_dict(output) # depends on model used\n",
    "        return_df = pd.concat([new_row, return_df.loc[:]]).reset_index(drop=True)\n",
    "    \n",
    "    aggregated_df = return_df.groupby('label')['score'].agg(['sum', 'count'])\n",
    "\n",
    "    sentiment = aggregated_df['sum'].idxmax()\n",
    "    \n",
    "    return aggregated_df, sentiment\n",
    "\n",
    "    "
   ]
  },
  {
   "cell_type": "code",
   "execution_count": 26,
   "id": "53125cce-82a7-4cf0-ae6f-765cb0f38e1f",
   "metadata": {
    "tags": []
   },
   "outputs": [
    {
     "ename": "ModuleNotFoundError",
     "evalue": "No module named 'emoji'",
     "output_type": "error",
     "traceback": [
      "\u001b[0;31m---------------------------------------------------------------------------\u001b[0m",
      "\u001b[0;31mModuleNotFoundError\u001b[0m                       Traceback (most recent call last)",
      "Cell \u001b[0;32mIn[26], line 1\u001b[0m\n\u001b[0;32m----> 1\u001b[0m \u001b[38;5;28;01mfrom\u001b[39;00m \u001b[38;5;21;01memoji\u001b[39;00m \u001b[38;5;28;01mimport\u001b[39;00m emojize \n",
      "\u001b[0;31mModuleNotFoundError\u001b[0m: No module named 'emoji'"
     ]
    }
   ],
   "source": [
    "from emoji import emojize "
   ]
  },
  {
   "cell_type": "markdown",
   "id": "9f79c21e-a725-4e54-a72e-2c25b15d4909",
   "metadata": {},
   "source": [
    "#### Example of sentiment analysis\n"
   ]
  },
  {
   "cell_type": "code",
   "execution_count": null,
   "id": "26446abc-188d-4447-9a19-8f3dfe51dee8",
   "metadata": {
    "tags": []
   },
   "outputs": [
    {
     "name": "stderr",
     "output_type": "stream",
     "text": [
      "emoji is not installed, thus not converting emoticons or emojis into text. Install emoji: pip3 install emoji==0.6.0\n"
     ]
    }
   ],
   "source": [
    "# Retrieve the article content of the country\n",
    "country = 'Switzerland'\n",
    "content = plaintext_articles.loc[plaintext_articles['Country'] == country, 'Article content'].iloc[0]\n",
    "\n",
    "summary_df, majority_class = sentiment_analysis(content)\n",
    "\n",
    "print(majority_class)\n",
    "summary_df.head(3)"
   ]
  },
  {
   "cell_type": "code",
   "execution_count": null,
   "id": "ffe4d07a-f5f4-4aad-8f8a-a5cec137957d",
   "metadata": {},
   "outputs": [],
   "source": []
  }
 ],
 "metadata": {
  "kernelspec": {
   "display_name": "Python3",
   "language": "python",
   "name": "python3"
  },
  "language_info": {
   "codemirror_mode": {
    "name": "ipython",
    "version": 3
   },
   "file_extension": ".py",
   "mimetype": "text/x-python",
   "name": "python",
   "nbconvert_exporter": "python",
   "pygments_lexer": "ipython3",
   "version": "3.11.5"
  }
 },
 "nbformat": 4,
 "nbformat_minor": 5
}
